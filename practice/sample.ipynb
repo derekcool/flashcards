{
 "cells": [
  {
   "cell_type": "code",
   "execution_count": 1,
   "metadata": {},
   "outputs": [],
   "source": [
    "import importlib.util\n",
    "spec = importlib.util.spec_from_file_location(\"flashcards\", \"../src/flashcards.py\")\n",
    "fc = importlib.util.module_from_spec(spec)\n",
    "spec.loader.exec_module(fc)"
   ]
  },
  {
   "cell_type": "code",
   "execution_count": 2,
   "metadata": {},
   "outputs": [],
   "source": [
    "cards = fc.read_cards_from_file(\"I:/notes/flashcards/probability/ch5_continuous_rv.md\")\n",
    "print(len(cards))"
   ]
  },
  {
   "cell_type": "code",
   "execution_count": 3,
   "metadata": {},
   "outputs": [],
   "source": [
    "fc.learn(cards, \n",
    "         randomize=False, \n",
    "         cls_after_answer=True, \n",
    "         cls_after_question=False, \n",
    "         show_counter=True, \n",
    "         show_labels=True, \n",
    "         review_failed_ones=True)"
   ]
  }
 ],
 "metadata": {
  "kernelspec": {
   "display_name": "Python 3",
   "language": "python",
   "name": "python3"
  },
  "language_info": {
   "codemirror_mode": {
    "name": "ipython",
    "version": 3
   },
   "file_extension": ".py",
   "mimetype": "text/x-python",
   "name": "python",
   "nbconvert_exporter": "python",
   "pygments_lexer": "ipython3",
   "version": "3.7.6"
  }
 },
 "nbformat": 4,
 "nbformat_minor": 2
}
